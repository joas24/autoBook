{
 "cells": [
  {
   "cell_type": "code",
   "execution_count": 23,
   "metadata": {},
   "outputs": [],
   "source": [
    "from selenium import webdriver\n",
    "from selenium.webdriver.common.by import By\n",
    "from selenium.webdriver.common.keys import Keys\n",
    "from selenium.webdriver.support.select import Select\n",
    "import time\n",
    "\n",
    "driver=webdriver.Chrome(executable_path=\"chromedriver\")\n",
    "driver.set_window_size(1400,1000)\n",
    "driver.get(\"https://cse.cau.ac.kr/main.php\")\n",
    "driver.find_element(By.XPATH,'//*[@id=\"top\"]/div[2]/div/div[1]/a[5]').click()\n",
    "driver.find_element(By.XPATH,'//*[@id=\"sub05\"]/div/a[4]').click()\n",
    "\n"
   ]
  },
  {
   "cell_type": "code",
   "execution_count": 24,
   "metadata": {},
   "outputs": [],
   "source": [
    "inputId = driver.find_element(By.XPATH,'//*[@id=\"txtUserID\"]')\n",
    "inputPw = driver.find_element(By.XPATH,'//*[@id=\"txtPwd\"]')\n",
    "inputId.send_keys(\"kihyse4\")\n",
    "inputPw.send_keys(\"kehisy0128\",Keys.ENTER)\n",
    "time.sleep(1)\n",
    "driver.switch_to.alert.accept()"
   ]
  },
  {
   "cell_type": "code",
   "execution_count": null,
   "metadata": {},
   "outputs": [],
   "source": [
    "# driver.find_element(By.XPATH, '//*[@id=\"content\"]/form/table[1]/tbody/tr/td/a').click() #달력 들어가기\n",
    "# tbody = driver.find_element(By.XPATH, '//*[@id=\"content\"]/table[3]/tbody')\n",
    "# for tr in tbody.find_elements(By.TAG_NAME, 'tr'):\n",
    "#     for td in tr.find_elements(By.TAG_NAME, 'td'):\n",
    "#         print(td.get_attribute(\"innerText\"))"
   ]
  },
  {
   "cell_type": "code",
   "execution_count": 35,
   "metadata": {},
   "outputs": [
    {
     "ename": "NameError",
     "evalue": "name 'Select' is not defined",
     "output_type": "error",
     "traceback": [
      "\u001b[1;31m---------------------------------------------------------------------------\u001b[0m",
      "\u001b[1;31mNameError\u001b[0m                                 Traceback (most recent call last)",
      "\u001b[1;32mc:\\Users\\joas2\\Desktop\\git\\autoBook\\code.ipynb Cell 4\u001b[0m in \u001b[0;36m1\n\u001b[1;32m----> <a href='vscode-notebook-cell:/c%3A/Users/joas2/Desktop/git/autoBook/code.ipynb#W4sZmlsZQ%3D%3D?line=0'>1</a>\u001b[0m mon \u001b[39m=\u001b[39m Select(driver\u001b[39m.\u001b[39mfind_element(By\u001b[39m.\u001b[39mXPATH,\u001b[39m'\u001b[39m\u001b[39m//*[@id=\u001b[39m\u001b[39m\"\u001b[39m\u001b[39mreserveMonth\u001b[39m\u001b[39m\"\u001b[39m\u001b[39m]\u001b[39m\u001b[39m'\u001b[39m))\u001b[39m.\u001b[39mselect_by_value(\u001b[39m'\u001b[39m\u001b[39m1\u001b[39m\u001b[39m'\u001b[39m)\n",
      "\u001b[1;31mNameError\u001b[0m: name 'Select' is not defined"
     ]
    }
   ],
   "source": [
    "mon = Select(driver.find_element(By.XPATH,'//*[@id=\"reserveMonth\"]')).select_by_value('1')"
   ]
  }
 ],
 "metadata": {
  "kernelspec": {
   "display_name": "Python 3",
   "language": "python",
   "name": "python3"
  },
  "language_info": {
   "codemirror_mode": {
    "name": "ipython",
    "version": 3
   },
   "file_extension": ".py",
   "mimetype": "text/x-python",
   "name": "python",
   "nbconvert_exporter": "python",
   "pygments_lexer": "ipython3",
   "version": "3.10.4"
  },
  "orig_nbformat": 4
 },
 "nbformat": 4,
 "nbformat_minor": 2
}
