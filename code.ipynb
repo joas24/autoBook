{
 "cells": [
  {
   "cell_type": "code",
   "execution_count": 28,
   "metadata": {},
   "outputs": [],
   "source": [
    "from selenium import webdriver\n",
    "from selenium.webdriver.common.by import By\n",
    "from selenium.webdriver.common.keys import Keys\n",
    "from selenium.webdriver.support.select import Select\n",
    "import time\n",
    "\n",
    "id = input(\"ID : \")\n",
    "pwd = input(\"PWD : \")\n",
    "\n",
    "driver=webdriver.Chrome(executable_path=\"chromedriver\")\n",
    "driver.set_window_size(1400,1000)\n",
    "driver.get(\"https://cse.cau.ac.kr/main.php\")\n",
    "driver.find_element(By.XPATH,'//*[@id=\"top\"]/div[2]/div/div[1]/a[5]').click()\n",
    "driver.find_element(By.XPATH,'//*[@id=\"sub05\"]/div/a[4]').click()\n",
    "\n"
   ]
  },
  {
   "cell_type": "code",
   "execution_count": 29,
   "metadata": {},
   "outputs": [],
   "source": [
    "driver.find_element(By.XPATH,'//*[@id=\"txtUserID\"]').send_keys(id)\n",
    "driver.find_element(By.XPATH,'//*[@id=\"txtPwd\"]').send_keys(pwd, Keys.ENTER)\n",
    "\n",
    "time.sleep(1)\n",
    "driver.switch_to.alert.accept()"
   ]
  },
  {
   "cell_type": "code",
   "execution_count": 26,
   "metadata": {},
   "outputs": [],
   "source": [
    "# driver.find_element(By.XPATH, '//*[@id=\"content\"]/form/table[1]/tbody/tr/td/a').click() #달력 들어가기\n",
    "# tbody = driver.find_element(By.XPATH, '//*[@id=\"content\"]/table[3]/tbody')\n",
    "# for tr in tbody.find_elements(By.TAG_NAME, 'tr'):\n",
    "#     for td in tr.find_elements(By.TAG_NAME, 'td'):\n",
    "#         print(td.get_attribute(\"innerText\"))"
   ]
  },
  {
   "cell_type": "code",
   "execution_count": 33,
   "metadata": {},
   "outputs": [
    {
     "name": "stdout",
     "output_type": "stream",
     "text": [
      "팀프로젝트실5 (208관 601호)\t2023-06-01\t17:00 ~ 18:00\t관리*(admin)\t2\t수업\t-\n",
      "예약정보가 없습니다.\n"
     ]
    }
   ],
   "source": [
    "choice = 0\n",
    "while choice != 1:\n",
    "    mon = input(\"mon : \")\n",
    "    day = input(\"day : \")\n",
    "    num = int(input(\"num : \"))\n",
    "\n",
    "    Select(driver.find_element(By.XPATH,'//*[@id=\"reserveMonth\"]')).select_by_value(str(mon).zfill(2))\n",
    "    Select(driver.find_element(By.XPATH,'//*[@id=\"reserveDay\"]')).select_by_value(str(day).zfill(2))\n",
    "    Select(driver.find_element(By.XPATH,'//*[@id=\"classRoomNo\"]')).select_by_index(num)\n",
    "\n",
    "    list_tbody = driver.find_element(By.XPATH, '//*[@id=\"content\"]/table/tbody')\n",
    "    for tr in list_tbody.find_elements(By.TAG_NAME, 'tr'):\n",
    "        print(tr.get_attribute(\"innerText\"))\n",
    "    \n",
    "    choice = int(input(\"1. 예약하기\\n2. 다른날짜\"))\n",
    "\n"
   ]
  },
  {
   "cell_type": "markdown",
   "metadata": {},
   "source": []
  }
 ],
 "metadata": {
  "kernelspec": {
   "display_name": "Python 3",
   "language": "python",
   "name": "python3"
  },
  "language_info": {
   "codemirror_mode": {
    "name": "ipython",
    "version": 3
   },
   "file_extension": ".py",
   "mimetype": "text/x-python",
   "name": "python",
   "nbconvert_exporter": "python",
   "pygments_lexer": "ipython3",
   "version": "3.10.4"
  },
  "orig_nbformat": 4
 },
 "nbformat": 4,
 "nbformat_minor": 2
}
