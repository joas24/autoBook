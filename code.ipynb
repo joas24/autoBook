{
 "cells": [
  {
   "cell_type": "code",
   "execution_count": 5,
   "metadata": {},
   "outputs": [],
   "source": [
    "from selenium import webdriver\n",
    "from selenium.webdriver.common.by import By\n",
    "from selenium.webdriver.common.keys import Keys\n",
    "from selenium.webdriver.support.select import Select\n",
    "import time\n",
    "import os"
   ]
  },
  {
   "cell_type": "code",
   "execution_count": 21,
   "metadata": {},
   "outputs": [
    {
     "name": "stdout",
     "output_type": "stream",
     "text": [
      "아이디 또는 비밀번호가 틀렸습니다.\n"
     ]
    }
   ],
   "source": [
    "#아이디 비밀번호 입력 / 로그인\n",
    "\n",
    "driver=webdriver.Chrome(executable_path=\"chromedriver\")\n",
    "driver.set_window_size(1400,1000)\n",
    "driver.get(\"https://cse.cau.ac.kr/main.php\")\n",
    "driver.find_element(By.XPATH,'//*[@id=\"top\"]/div[2]/div/div[1]/a[5]').click()\n",
    "driver.find_element(By.XPATH,'//*[@id=\"sub05\"]/div/a[4]').click()\n",
    "time.sleep(1)\n",
    "\n",
    "done = 0\n",
    "autoT = 1 #자동입력되는 아이디가 틀릴 경우 0\n",
    "while not done:\n",
    "\n",
    "    if os.path.exists(\"id.txt\") and autoT:#자동 로그인\n",
    "        f = open(\"id.txt\",'r')\n",
    "        id = f.readline().strip()\n",
    "        pwd = f.readline().strip()\n",
    "        f.close()\n",
    "    else:#직접 로그인\n",
    "        id = input(\"ID : \")\n",
    "        pwd = input(\"PWD : \")\n",
    "\n",
    "    driver.find_element(By.XPATH,'//*[@id=\"txtUserID\"]').send_keys(id)#id 입력\n",
    "    driver.find_element(By.XPATH,'//*[@id=\"txtPwd\"]').send_keys(pwd,Keys.ENTER)#pwd 입력\n",
    "    time.sleep(1)\n",
    "\n",
    "    alert = driver.switch_to.alert\n",
    "    al_msg = alert.text\n",
    "    alert.accept()\n",
    "    if \"환영합니다\" in al_msg: \n",
    "        f = open(\"id.txt\",'w')\n",
    "        f.write(f\"{id}\\n{pwd}\")\n",
    "        f.close()  \n",
    "        done = 1\n",
    "    else: \n",
    "        print(\"아이디 또는 비밀번호가 틀렸습니다.\")\n",
    "        autoT = 0 #자동 로그인이었을 경우 다시 자동 로그인 방지\n"
   ]
  },
  {
   "cell_type": "code",
   "execution_count": 18,
   "metadata": {},
   "outputs": [
    {
     "name": "stdout",
     "output_type": "stream",
     "text": [
      "kihyse4\n",
      "\n"
     ]
    }
   ],
   "source": [
    "print(id)"
   ]
  },
  {
   "cell_type": "code",
   "execution_count": null,
   "metadata": {},
   "outputs": [],
   "source": [
    "def set_date(mon, day, num): #월, 일, 팀플실 입력\n",
    "    Select(driver.find_element(By.XPATH,'//*[@id=\"reserveMonth\"]')).select_by_value(str(mon).zfill(2))\n",
    "    Select(driver.find_element(By.XPATH,'//*[@id=\"reserveDay\"]')).select_by_value(str(day).zfill(2))\n",
    "    Select(driver.find_element(By.XPATH,'//*[@id=\"classRoomNo\"]')).select_by_index(num)"
   ]
  },
  {
   "cell_type": "code",
   "execution_count": null,
   "metadata": {},
   "outputs": [],
   "source": [
    "#조회하기\n",
    "def see_one(mon, day, num):\n",
    "    set_date(mon, day, num)\n",
    "    list_tbody = driver.find_element(By.XPATH, '//*[@id=\"content\"]/table/tbody')\n",
    "    for tr in list_tbody.find_elements(By.TAG_NAME, 'tr'):\n",
    "        print(tr.get_attribute(\"innerText\"))"
   ]
  },
  {
   "cell_type": "code",
   "execution_count": null,
   "metadata": {},
   "outputs": [],
   "source": [
    "#예약하기\n",
    "def book(mon, day, num, startH, startM, t=4, people = 2, msg = \"스터디\"):\n",
    "    endH = startH + (startM+t)//2\n",
    "    endM = (startM+t)%2\n",
    "    \n",
    "    set_date(mon, day, num)\n",
    "\n",
    "    Select(driver.find_element(By.XPATH, '//*[@id=\"reserveStartTimeH\"]')).select_by_value(str(startH).zfill(2))\n",
    "    Select(driver.find_element(By.XPATH, '//*[@id=\"reserveStartTimeM\"]')).select_by_index(startM)\n",
    "    Select(driver.find_element(By.XPATH, '//*[@id=\"reserveEndTimeH\"]')).select_by_value(str(endH).zfill(2))\n",
    "    Select(driver.find_element(By.XPATH, '//*[@id=\"reserveEndTimeM\"]')).select_by_index(endM)\n",
    "    Select(driver.find_element(By.XPATH, '//*[@id=\"reserveMember\"]')).select_by_index(people-2)\n",
    "    driver.find_element(By.XPATH, '//*[@id=\"memo\"]').send_keys(msg)\n",
    "\n",
    "    # driver.find_element(By.XPATH, '//*[@id=\"content\"]/form/table[3]/tbody/tr/td/a/button').click()\n",
    "    # al = driver.switch_to.alert\n",
    "    # print(al.text)\n",
    "    # al.accept()\n",
    "    # table = driver.find_element(By.XPATH, '//*[@id=\"content\"]/table/tbody')\n",
    "    # for tr in table.find_elements(By.TAG_NAME, 'tr'):\n",
    "    #     print(tr.get_attribute(\"innerText\"))\n",
    "    "
   ]
  },
  {
   "cell_type": "code",
   "execution_count": null,
   "metadata": {},
   "outputs": [],
   "source": [
    "#취소하기\n",
    "def cancel(mon, day, num):\n",
    "    set_date(mon, day, num)\n",
    "\n",
    "    list_tbody = driver.find_element(By.XPATH, '//*[@id=\"content\"]/table/tbody')\n",
    "    for tr in list_tbody.find_elements(By.TAG_NAME, 'tr'):\n",
    "        if tr.find_elements(By.TAG_NAME,'td')[-1].get_attribute(\"innerText\")==\"예약취소\":\n",
    "            tr.find_elements(By.TAG_NAME,'td')[-1].find_element(By.TAG_NAME, 'a').click()\n",
    "            aler = driver.switch_to.alert\n",
    "            aler.accept()\n",
    "            print(aler.text)\n",
    "            aler.accept()"
   ]
  },
  {
   "cell_type": "code",
   "execution_count": null,
   "metadata": {},
   "outputs": [],
   "source": [
    "# driver.find_element(By.XPATH, '//*[@id=\"content\"]/form/table[1]/tbody/tr/td/a').click() #달력 들어가기\n",
    "# tbody = driver.find_element(By.XPATH, '//*[@id=\"content\"]/table[3]/tbody')\n",
    "# for tr in tbody.find_elements(By.TAG_NAME, 'tr'):\n",
    "#     for td in tr.find_elements(By.TAG_NAME, 'td'):\n",
    "#         print(td.get_attribute(\"innerText\"))"
   ]
  },
  {
   "cell_type": "code",
   "execution_count": null,
   "metadata": {},
   "outputs": [],
   "source": [
    "choice = 0\n",
    "while choice != 4:\n",
    "    choice = int(input(\"1. 예약 상황 조회\\n2. 예약하기\\n3. 예약 취소하기\\n4. 종료\\n\"))\n",
    "\n",
    "    match choice:\n",
    "        case 1:\n",
    "            mon = input(\"mon : \")\n",
    "            day = input(\"day : \")\n",
    "            num = int(input(\"num : \"))\n",
    "            see_one(mon,day,num)\n",
    "        case 2:\n",
    "            while True:\n",
    "                date_custum = int(input(\"- 날짜, 팀플실 -\\n1. 최근 조회한대로\\n2. 직접 입력\\n\"))\n",
    "                if date_custum == 2:\n",
    "                    mon = input(\"mon : \")\n",
    "                    day = input(\"day : \")\n",
    "                    num = int(input(\"num : \"))\n",
    "\n",
    "                startH = int(input(\"start hour : \"))\n",
    "                startM = int(input(\"start minute(1. 정각 2. 30분) : \"))-1\n",
    "\n",
    "                info_custum = int(input(\"- 시간, 인원, 목적 -\\n1. 2시간 / 2명 / 스터디\\n2. 직접 입력\\n\"))\n",
    "                if info_custum == 2:\n",
    "                    t = int(input(\"- 이용 시간 - \\n1. 30분\\n2. 1시간\\n3. 1시간 30분\\n4. 2시간\\n\"))\n",
    "                    people = int(input(\"인원수 : \"))\n",
    "                    msg = input(\"이용 목적 : \")\n",
    "                    book(mon, day, num, startH, startM, t, people, msg)\n",
    "                    break\n",
    "\n",
    "                elif info_custum == 1: #이상함\n",
    "                    try:\n",
    "                        book(mon, day, num, startH, startM)\n",
    "                        break\n",
    "                    except:\n",
    "                        print(\"직접 입력해주세요.\")\n",
    "\n",
    "                else: print(\"올바른 숫자를 입력해주세요.\")\n",
    "        case 3:\n",
    "            date_custum = int(input(\"- 날짜, 팀플실 -\\n1. 최근 조회한대로\\n2. 직접 입력\\n\"))\n",
    "            if date_custum == 2:\n",
    "                mon = input(\"mon : \")\n",
    "                day = input(\"day : \")\n",
    "                num = int(input(\"num : \"))\n",
    "            cancel(mon, day, num)\n",
    "            \n",
    "        case 4:\n",
    "            break"
   ]
  }
 ],
 "metadata": {
  "kernelspec": {
   "display_name": "Python 3",
   "language": "python",
   "name": "python3"
  },
  "language_info": {
   "codemirror_mode": {
    "name": "ipython",
    "version": 3
   },
   "file_extension": ".py",
   "mimetype": "text/x-python",
   "name": "python",
   "nbconvert_exporter": "python",
   "pygments_lexer": "ipython3",
   "version": "3.10.4"
  },
  "orig_nbformat": 4
 },
 "nbformat": 4,
 "nbformat_minor": 2
}
